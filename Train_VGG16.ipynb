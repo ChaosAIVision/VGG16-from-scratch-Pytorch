{
  "cells": [
    {
      "cell_type": "code",
      "execution_count": null,
      "metadata": {
        "id": "3xTTZ7loCAgv"
      },
      "outputs": [],
      "source": [
        "# result of training https://drive.google.com/drive/folders/1yXwacJs7HsAk9fqWjXvwLHF1oKf1NiaW?usp=sharing"
      ]
    },
    {
      "cell_type": "code",
      "execution_count": 45,
      "metadata": {
        "colab": {
          "base_uri": "https://localhost:8080/"
        },
        "id": "bWpk8mzOCK4F",
        "outputId": "71d99f42-ee9a-4477-b223-b3925ebfc9fc"
      },
      "outputs": [
        {
          "name": "stdout",
          "output_type": "stream",
          "text": [
            "result wil save at /home/chaos/Documents/ChaosAIVision/temp_folder/result\n",
            "Epochs 1/30 loss: 0.7031: 100%|\u001b[32m█████████████\u001b[0m| 1001/1001 [02:33<00:00,  6.53it/s]\u001b[0m\n",
            "Epochs 1/30 loss: 0.6407: 100%|\u001b[33m███████████████\u001b[0m| 253/253 [00:11<00:00, 22.48it/s]\u001b[0m\n",
            "precision: 0.5836  recall: 0.5005 loss: 0.6915 accuracy: 0.5007\n",
            "Epochs 2/30 loss: 0.7738: 100%|\u001b[32m█████████████\u001b[0m| 1001/1001 [02:32<00:00,  6.56it/s]\u001b[0m\n",
            "Epochs 2/30 loss: 0.1397: 100%|\u001b[33m███████████████\u001b[0m| 253/253 [00:11<00:00, 22.98it/s]\u001b[0m\n",
            "precision: 0.2501  recall: 0.5000 loss: 1.0248 accuracy: 0.5002\n",
            "Epochs 3/30 loss: 0.5080: 100%|\u001b[32m█████████████\u001b[0m| 1001/1001 [02:28<00:00,  6.75it/s]\u001b[0m\n",
            "Epochs 3/30 loss: 0.0511: 100%|\u001b[33m███████████████\u001b[0m| 253/253 [00:10<00:00, 23.08it/s]\u001b[0m\n",
            "precision: 0.5504  recall: 0.5010 loss: 1.4757 accuracy: 0.5012\n",
            "Epochs 4/30 loss: 0.7618: 100%|\u001b[32m█████████████\u001b[0m| 1001/1001 [02:30<00:00,  6.65it/s]\u001b[0m\n",
            "Epochs 4/30 loss: 0.0300: 100%|\u001b[33m███████████████\u001b[0m| 253/253 [00:11<00:00, 22.88it/s]\u001b[0m\n",
            "precision: 0.7505  recall: 0.5015 loss: 1.8133 accuracy: 0.5017\n",
            "Epochs 5/30 loss: 0.6877: 100%|\u001b[32m█████████████\u001b[0m| 1001/1001 [02:31<00:00,  6.59it/s]\u001b[0m\n",
            "Epochs 5/30 loss: 0.0213: 100%|\u001b[33m███████████████\u001b[0m| 253/253 [00:11<00:00, 22.87it/s]\u001b[0m\n",
            "precision: 0.4500  recall: 0.4995 loss: 2.0485 accuracy: 0.4998\n",
            "Epochs 6/30 loss: 0.6386: 100%|\u001b[32m█████████████\u001b[0m| 1001/1001 [02:32<00:00,  6.55it/s]\u001b[0m\n",
            "Epochs 6/30 loss: 0.0567: 100%|\u001b[33m███████████████\u001b[0m| 253/253 [00:11<00:00, 22.66it/s]\u001b[0m\n",
            "precision: 0.4163  recall: 0.4980 loss: 1.4786 accuracy: 0.4983\n",
            "Epochs 7/30 loss: 0.6594: 100%|\u001b[32m█████████████\u001b[0m| 1001/1001 [02:30<00:00,  6.67it/s]\u001b[0m\n",
            "Epochs 7/30 loss: 0.1103: 100%|\u001b[33m███████████████\u001b[0m| 253/253 [00:11<00:00, 22.99it/s]\u001b[0m\n",
            "precision: 0.5466  recall: 0.5055 loss: 1.2270 accuracy: 0.5057\n",
            "Epochs 8/30 loss: 0.6340: 100%|\u001b[32m█████████████\u001b[0m| 1001/1001 [02:30<00:00,  6.66it/s]\u001b[0m\n",
            "Epochs 8/30 loss: 0.0801: 100%|\u001b[33m███████████████\u001b[0m| 253/253 [00:10<00:00, 23.01it/s]\u001b[0m\n",
            "precision: 0.4556  recall: 0.4985 loss: 1.3408 accuracy: 0.4988\n",
            "Epochs 9/30 loss: 0.6140: 100%|\u001b[32m█████████████\u001b[0m| 1001/1001 [02:30<00:00,  6.65it/s]\u001b[0m\n",
            "Epochs 9/30 loss: 0.1711: 100%|\u001b[33m███████████████\u001b[0m| 253/253 [00:11<00:00, 22.73it/s]\u001b[0m\n",
            "precision: 0.5735  recall: 0.5109 loss: 0.9388 accuracy: 0.5111\n",
            "Epochs 10/30 loss: 0.5052: 100%|\u001b[32m████████████\u001b[0m| 1001/1001 [02:33<00:00,  6.53it/s]\u001b[0m\n",
            "Epochs 10/30 loss: 0.1895: 100%|\u001b[33m██████████████\u001b[0m| 253/253 [00:11<00:00, 22.53it/s]\u001b[0m\n",
            "precision: 0.6039  recall: 0.5114 loss: 0.8718 accuracy: 0.5116\n",
            "Epochs 11/30 loss: 0.5318: 100%|\u001b[32m████████████\u001b[0m| 1001/1001 [02:33<00:00,  6.52it/s]\u001b[0m\n",
            "Epochs 11/30 loss: 0.2658: 100%|\u001b[33m██████████████\u001b[0m| 253/253 [00:10<00:00, 23.18it/s]\u001b[0m\n",
            "precision: 0.6482  recall: 0.5609 loss: 0.7180 accuracy: 0.5610\n",
            "Epochs 12/30 loss: 0.6249: 100%|\u001b[32m████████████\u001b[0m| 1001/1001 [02:26<00:00,  6.82it/s]\u001b[0m\n",
            "Epochs 12/30 loss: 0.1790: 100%|\u001b[33m██████████████\u001b[0m| 253/253 [00:10<00:00, 23.71it/s]\u001b[0m\n",
            "precision: 0.6777  recall: 0.5237 loss: 0.7981 accuracy: 0.5240\n",
            "Epochs 13/30 loss: 0.4589: 100%|\u001b[32m████████████\u001b[0m| 1001/1001 [02:31<00:00,  6.61it/s]\u001b[0m\n",
            "Epochs 13/30 loss: 0.5741: 100%|\u001b[33m██████████████\u001b[0m| 253/253 [00:10<00:00, 23.13it/s]\u001b[0m\n",
            "precision: 0.7219  recall: 0.7124 loss: 0.5757 accuracy: 0.7123\n",
            "Epochs 14/30 loss: 0.9733: 100%|\u001b[32m████████████\u001b[0m| 1001/1001 [02:31<00:00,  6.59it/s]\u001b[0m\n",
            "Epochs 14/30 loss: 0.4524: 100%|\u001b[33m██████████████\u001b[0m| 253/253 [00:11<00:00, 22.59it/s]\u001b[0m\n",
            "precision: 0.6384  recall: 0.6064 loss: 0.7027 accuracy: 0.6065\n",
            "Epochs 15/30 loss: 0.7648: 100%|\u001b[32m████████████\u001b[0m| 1001/1001 [02:31<00:00,  6.62it/s]\u001b[0m\n",
            "Epochs 15/30 loss: 0.3270: 100%|\u001b[33m██████████████\u001b[0m| 253/253 [00:11<00:00, 22.96it/s]\u001b[0m\n",
            "precision: 0.7402  recall: 0.6786 loss: 0.6156 accuracy: 0.6787\n",
            "Epochs 16/30 loss: 0.4173: 100%|\u001b[32m████████████\u001b[0m| 1001/1001 [02:30<00:00,  6.67it/s]\u001b[0m\n",
            "Epochs 16/30 loss: 0.6354: 100%|\u001b[33m██████████████\u001b[0m| 253/253 [00:11<00:00, 22.90it/s]\u001b[0m\n",
            "precision: 0.7374  recall: 0.7351 loss: 0.5247 accuracy: 0.7350\n",
            "Epochs 17/30 loss: 0.7360: 100%|\u001b[32m████████████\u001b[0m| 1001/1001 [02:30<00:00,  6.65it/s]\u001b[0m\n",
            "Epochs 17/30 loss: 0.3793: 100%|\u001b[33m██████████████\u001b[0m| 253/253 [00:11<00:00, 22.78it/s]\u001b[0m\n",
            "precision: 0.7499  recall: 0.7494 loss: 0.5263 accuracy: 0.7494\n",
            "Epochs 18/30 loss: 0.3892: 100%|\u001b[32m████████████\u001b[0m| 1001/1001 [02:32<00:00,  6.57it/s]\u001b[0m\n",
            "Epochs 18/30 loss: 0.3427: 100%|\u001b[33m██████████████\u001b[0m| 253/253 [00:11<00:00, 22.46it/s]\u001b[0m\n",
            "precision: 0.7274  recall: 0.7231 loss: 0.5346 accuracy: 0.7232\n",
            "Epochs 19/30 loss: 0.5725: 100%|\u001b[32m████████████\u001b[0m| 1001/1001 [02:33<00:00,  6.54it/s]\u001b[0m\n",
            "Epochs 19/30 loss: 0.3079: 100%|\u001b[33m██████████████\u001b[0m| 253/253 [00:11<00:00, 22.41it/s]\u001b[0m\n",
            "precision: 0.7467  recall: 0.7236 loss: 0.5221 accuracy: 0.7237\n",
            "Epochs 20/30 loss: 0.3483: 100%|\u001b[32m████████████\u001b[0m| 1001/1001 [02:33<00:00,  6.53it/s]\u001b[0m\n",
            "Epochs 20/30 loss: 1.1637: 100%|\u001b[33m██████████████\u001b[0m| 253/253 [00:11<00:00, 22.37it/s]\u001b[0m\n",
            "precision: 0.7550  recall: 0.7006 loss: 0.6088 accuracy: 0.7004\n",
            "Epochs 21/30 loss: 0.8607: 100%|\u001b[32m████████████\u001b[0m| 1001/1001 [02:32<00:00,  6.55it/s]\u001b[0m\n",
            "Epochs 21/30 loss: 0.4191: 100%|\u001b[33m██████████████\u001b[0m| 253/253 [00:11<00:00, 22.78it/s]\u001b[0m\n",
            "precision: 0.7631  recall: 0.7598 loss: 0.4880 accuracy: 0.7598\n",
            "Epochs 22/30 loss: 0.3389: 100%|\u001b[32m████████████\u001b[0m| 1001/1001 [02:26<00:00,  6.83it/s]\u001b[0m\n",
            "Epochs 22/30 loss: 0.5711: 100%|\u001b[33m██████████████\u001b[0m| 253/253 [00:10<00:00, 24.97it/s]\u001b[0m\n",
            "precision: 0.7930  recall: 0.7890 loss: 0.4549 accuracy: 0.7889\n",
            "Epochs 23/30 loss: 0.5728: 100%|\u001b[32m████████████\u001b[0m| 1001/1001 [02:19<00:00,  7.18it/s]\u001b[0m\n",
            "Epochs 23/30 loss: 0.5650: 100%|\u001b[33m██████████████\u001b[0m| 253/253 [00:10<00:00, 24.28it/s]\u001b[0m\n",
            "precision: 0.7984  recall: 0.7801 loss: 0.4514 accuracy: 0.7800\n",
            "Epochs 24/30 loss: 0.4259: 100%|\u001b[32m████████████\u001b[0m| 1001/1001 [02:22<00:00,  7.03it/s]\u001b[0m\n",
            "Epochs 24/30 loss: 0.4518: 100%|\u001b[33m██████████████\u001b[0m| 253/253 [00:10<00:00, 24.24it/s]\u001b[0m\n",
            "precision: 0.7938  recall: 0.7756 loss: 0.4553 accuracy: 0.7756\n",
            "Epochs 25/30 loss: 0.9271: 100%|\u001b[32m████████████\u001b[0m| 1001/1001 [02:28<00:00,  6.74it/s]\u001b[0m\n",
            "Epochs 25/30 loss: 0.5026: 100%|\u001b[33m██████████████\u001b[0m| 253/253 [00:11<00:00, 22.73it/s]\u001b[0m\n",
            "precision: 0.7879  recall: 0.7811 loss: 0.4685 accuracy: 0.7810\n",
            "Epochs 26/30 loss: 0.6518: 100%|\u001b[32m████████████\u001b[0m| 1001/1001 [02:31<00:00,  6.60it/s]\u001b[0m\n",
            "Epochs 26/30 loss: 0.1916: 100%|\u001b[33m██████████████\u001b[0m| 253/253 [00:11<00:00, 22.53it/s]\u001b[0m\n",
            "precision: 0.8175  recall: 0.8171 loss: 0.3897 accuracy: 0.8171\n",
            "Epochs 27/30 loss: 0.4963: 100%|\u001b[32m████████████\u001b[0m| 1001/1001 [02:30<00:00,  6.63it/s]\u001b[0m\n",
            "Epochs 27/30 loss: 0.5158: 100%|\u001b[33m██████████████\u001b[0m| 253/253 [00:11<00:00, 22.25it/s]\u001b[0m\n",
            "precision: 0.8057  recall: 0.7890 loss: 0.4559 accuracy: 0.7889\n",
            "Epochs 28/30 loss: 0.3988: 100%|\u001b[32m████████████\u001b[0m| 1001/1001 [02:31<00:00,  6.60it/s]\u001b[0m\n",
            "Epochs 28/30 loss: 0.6040: 100%|\u001b[33m██████████████\u001b[0m| 253/253 [00:11<00:00, 22.69it/s]\u001b[0m\n",
            "precision: 0.8144  recall: 0.7846 loss: 0.5741 accuracy: 0.7845\n",
            "Epochs 29/30 loss: 0.5099: 100%|\u001b[32m████████████\u001b[0m| 1001/1001 [02:31<00:00,  6.59it/s]\u001b[0m\n",
            "Epochs 29/30 loss: 0.3178: 100%|\u001b[33m██████████████\u001b[0m| 253/253 [00:11<00:00, 22.74it/s]\u001b[0m\n",
            "precision: 0.8261  recall: 0.8058 loss: 0.4497 accuracy: 0.8057\n",
            "Epochs 30/30 loss: 0.3258: 100%|\u001b[32m████████████\u001b[0m| 1001/1001 [02:31<00:00,  6.62it/s]\u001b[0m\n",
            "Epochs 30/30 loss: 0.3527: 100%|\u001b[33m██████████████\u001b[0m| 253/253 [00:11<00:00, 22.39it/s]\u001b[0m\n",
            "precision: 0.8549  recall: 0.8517 loss: 0.3361 accuracy: 0.8517\n"
          ]
        }
      ],
      "source": [
        "!python3 train.py -d /home/chaos/Documents/ChaosAIVision/VGG16-from-scratch-Pytorch/data.yaml -b 8 -l 1e-3 -e 30 "
      ]
    },
    {
      "cell_type": "markdown",
      "metadata": {
        "id": "5XO4kFgSHcke"
      },
      "source": []
    }
  ],
  "metadata": {
    "accelerator": "GPU",
    "colab": {
      "gpuType": "T4",
      "provenance": []
    },
    "kernelspec": {
      "display_name": "Python 3",
      "name": "python3"
    },
    "language_info": {
      "codemirror_mode": {
        "name": "ipython",
        "version": 3
      },
      "file_extension": ".py",
      "mimetype": "text/x-python",
      "name": "python",
      "nbconvert_exporter": "python",
      "pygments_lexer": "ipython3",
      "version": "3.10.14"
    }
  },
  "nbformat": 4,
  "nbformat_minor": 0
}
