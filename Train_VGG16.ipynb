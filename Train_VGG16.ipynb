{
  "cells": [
    {
      "cell_type": "code",
      "execution_count": null,
      "metadata": {
        "id": "3xTTZ7loCAgv"
      },
      "outputs": [],
      "source": [
        "# result of training https://drive.google.com/drive/folders/1yXwacJs7HsAk9fqWjXvwLHF1oKf1NiaW?usp=sharing"
      ]
    },
    {
      "cell_type": "code",
      "execution_count": 14,
      "metadata": {
        "colab": {
          "base_uri": "https://localhost:8080/"
        },
        "id": "bWpk8mzOCK4F",
        "outputId": "71d99f42-ee9a-4477-b223-b3925ebfc9fc"
      },
      "outputs": [
        {
          "name": "stdout",
          "output_type": "stream",
          "text": [
            "result wil save at /home/chaos/Documents/ChaosAIVision/temp_folder/result2\n",
            "Epochs 1/30 loss: 2.9800: 100%|\u001b[32m█████████████\u001b[0m| 1001/1001 [01:17<00:00, 12.91it/s]\u001b[0m\n",
            "Epochs 1/30 loss: 5.9564: 100%|\u001b[33m███████████████\u001b[0m| 253/253 [00:06<00:00, 42.09it/s]\u001b[0m\n",
            "precision: 0.2501  recall: 0.5000 loss: 20.0009 accuracy: 0.5002\n",
            "Epochs 2/30 loss: 2.4320: 100%|\u001b[32m█████████████\u001b[0m| 1001/1001 [01:08<00:00, 14.61it/s]\u001b[0m\n",
            "Epochs 2/30 loss: 3.0451: 100%|\u001b[33m███████████████\u001b[0m| 253/253 [00:05<00:00, 47.17it/s]\u001b[0m\n",
            "precision: 0.2501  recall: 0.5000 loss: 4.0218 accuracy: 0.5002\n",
            "Epochs 3/30 loss: 2.4110: 100%|\u001b[32m█████████████\u001b[0m| 1001/1001 [01:08<00:00, 14.72it/s]\u001b[0m\n",
            "Epochs 3/30 loss: 4.4573: 100%|\u001b[33m███████████████\u001b[0m| 253/253 [00:05<00:00, 47.38it/s]\u001b[0m\n",
            "precision: 0.2499  recall: 0.5000 loss: 4.0652 accuracy: 0.4998\n",
            "Epochs 4/30 loss: 2.7497: 100%|\u001b[32m█████████████\u001b[0m| 1001/1001 [01:08<00:00, 14.68it/s]\u001b[0m\n",
            "Epochs 4/30 loss: 2.9892: 100%|\u001b[33m███████████████\u001b[0m| 253/253 [00:05<00:00, 47.10it/s]\u001b[0m\n",
            "precision: 0.2501  recall: 0.5000 loss: 4.0210 accuracy: 0.5002\n",
            "Epochs 5/30 loss: 2.5179: 100%|\u001b[32m█████████████\u001b[0m| 1001/1001 [01:07<00:00, 14.75it/s]\u001b[0m\n",
            "Epochs 5/30 loss: 3.3646: 100%|\u001b[33m███████████████\u001b[0m| 253/253 [00:05<00:00, 47.28it/s]\u001b[0m\n",
            "precision: 0.2501  recall: 0.5000 loss: 3.9995 accuracy: 0.5002\n",
            "Epochs 6/30 loss: 2.4004: 100%|\u001b[32m█████████████\u001b[0m| 1001/1001 [01:07<00:00, 14.79it/s]\u001b[0m\n",
            "Epochs 6/30 loss: 2.4256: 100%|\u001b[33m███████████████\u001b[0m| 253/253 [00:05<00:00, 46.89it/s]\u001b[0m\n",
            "precision: 0.2501  recall: 0.5000 loss: 4.1093 accuracy: 0.5002\n",
            "Epochs 7/30 loss: 2.4353: 100%|\u001b[32m█████████████\u001b[0m| 1001/1001 [01:07<00:00, 14.83it/s]\u001b[0m\n",
            "Epochs 7/30 loss: 3.0209: 100%|\u001b[33m███████████████\u001b[0m| 253/253 [00:05<00:00, 47.37it/s]\u001b[0m\n",
            "precision: 0.2501  recall: 0.5000 loss: 4.0170 accuracy: 0.5002\n",
            "Epochs 8/30 loss: 2.9424: 100%|\u001b[32m█████████████\u001b[0m| 1001/1001 [01:07<00:00, 14.79it/s]\u001b[0m\n",
            "Epochs 8/30 loss: 3.9021: 100%|\u001b[33m███████████████\u001b[0m| 253/253 [00:05<00:00, 47.45it/s]\u001b[0m\n",
            "precision: 0.4164  recall: 0.4995 loss: 3.9908 accuracy: 0.4993\n",
            "Epochs 9/30 loss: 2.6705: 100%|\u001b[32m█████████████\u001b[0m| 1001/1001 [01:07<00:00, 14.75it/s]\u001b[0m\n",
            "Epochs 9/30 loss: 0.9659: 100%|\u001b[33m███████████████\u001b[0m| 253/253 [00:05<00:00, 47.03it/s]\u001b[0m\n",
            "precision: 0.5848  recall: 0.5168 loss: 5.0321 accuracy: 0.5171\n",
            "Epochs 10/30 loss: 2.4044: 100%|\u001b[32m████████████\u001b[0m| 1001/1001 [01:07<00:00, 14.72it/s]\u001b[0m\n",
            "Epochs 10/30 loss: 3.1748: 100%|\u001b[33m██████████████\u001b[0m| 253/253 [00:05<00:00, 46.89it/s]\u001b[0m\n",
            "precision: 0.5748  recall: 0.5709 loss: 3.8066 accuracy: 0.5709\n",
            "Epochs 11/30 loss: 2.0361: 100%|\u001b[32m████████████\u001b[0m| 1001/1001 [01:07<00:00, 14.74it/s]\u001b[0m\n",
            "Epochs 11/30 loss: 2.6695: 100%|\u001b[33m██████████████\u001b[0m| 253/253 [00:05<00:00, 47.05it/s]\u001b[0m\n",
            "precision: 0.5940  recall: 0.5917 loss: 4.1915 accuracy: 0.5917\n",
            "Epochs 12/30 loss: 1.5639: 100%|\u001b[32m████████████\u001b[0m| 1001/1001 [01:08<00:00, 14.61it/s]\u001b[0m\n",
            "Epochs 12/30 loss: 2.0945: 100%|\u001b[33m██████████████\u001b[0m| 253/253 [00:05<00:00, 46.28it/s]\u001b[0m\n",
            "precision: 0.6162  recall: 0.6065 loss: 4.0757 accuracy: 0.6065\n",
            "Epochs 13/30 loss: 1.7459: 100%|\u001b[32m████████████\u001b[0m| 1001/1001 [01:08<00:00, 14.58it/s]\u001b[0m\n",
            "Epochs 13/30 loss: 2.2369: 100%|\u001b[33m██████████████\u001b[0m| 253/253 [00:05<00:00, 46.48it/s]\u001b[0m\n",
            "precision: 0.6602  recall: 0.5792 loss: 3.7638 accuracy: 0.5793\n",
            "Epochs 14/30 loss: 2.0756: 100%|\u001b[32m████████████\u001b[0m| 1001/1001 [01:09<00:00, 14.50it/s]\u001b[0m\n",
            "Epochs 14/30 loss: 3.5060: 100%|\u001b[33m██████████████\u001b[0m| 253/253 [00:05<00:00, 46.93it/s]\u001b[0m\n",
            "precision: 0.6963  recall: 0.6812 loss: 3.3314 accuracy: 0.6812\n",
            "Epochs 15/30 loss: 3.4236: 100%|\u001b[32m████████████\u001b[0m| 1001/1001 [01:08<00:00, 14.66it/s]\u001b[0m\n",
            "Epochs 15/30 loss: 2.1382: 100%|\u001b[33m██████████████\u001b[0m| 253/253 [00:05<00:00, 47.16it/s]\u001b[0m\n",
            "precision: 0.7102  recall: 0.7078 loss: 3.1144 accuracy: 0.7079\n",
            "Epochs 16/30 loss: 0.4785: 100%|\u001b[32m████████████\u001b[0m| 1001/1001 [01:07<00:00, 14.77it/s]\u001b[0m\n",
            "Epochs 16/30 loss: 0.6727: 100%|\u001b[33m██████████████\u001b[0m| 253/253 [00:05<00:00, 46.92it/s]\u001b[0m\n",
            "precision: 0.7419  recall: 0.7242 loss: 0.5406 accuracy: 0.7242\n",
            "Epochs 17/30 loss: 0.4489: 100%|\u001b[32m████████████\u001b[0m| 1001/1001 [01:07<00:00, 14.78it/s]\u001b[0m\n",
            "Epochs 17/30 loss: 0.8357: 100%|\u001b[33m██████████████\u001b[0m| 253/253 [00:05<00:00, 47.06it/s]\u001b[0m\n",
            "precision: 0.7501  recall: 0.7238 loss: 0.5470 accuracy: 0.7237\n",
            "Epochs 18/30 loss: 0.3988: 100%|\u001b[32m████████████\u001b[0m| 1001/1001 [01:07<00:00, 14.81it/s]\u001b[0m\n",
            "Epochs 18/30 loss: 0.9179: 100%|\u001b[33m██████████████\u001b[0m| 253/253 [00:05<00:00, 47.46it/s]\u001b[0m\n",
            "precision: 0.7458  recall: 0.7001 loss: 0.6226 accuracy: 0.7000\n",
            "Epochs 19/30 loss: 0.2804: 100%|\u001b[32m████████████\u001b[0m| 1001/1001 [01:07<00:00, 14.76it/s]\u001b[0m\n",
            "Epochs 19/30 loss: 0.8226: 100%|\u001b[33m██████████████\u001b[0m| 253/253 [00:05<00:00, 47.19it/s]\u001b[0m\n",
            "precision: 0.7593  recall: 0.7070 loss: 0.5722 accuracy: 0.7069\n",
            "Epochs 20/30 loss: 0.3044: 100%|\u001b[32m████████████\u001b[0m| 1001/1001 [01:07<00:00, 14.76it/s]\u001b[0m\n",
            "Epochs 20/30 loss: 1.0425: 100%|\u001b[33m██████████████\u001b[0m| 253/253 [00:05<00:00, 46.74it/s]\u001b[0m\n",
            "precision: 0.7631  recall: 0.7396 loss: 0.5299 accuracy: 0.7395\n",
            "Epochs 21/30 loss: 0.2414: 100%|\u001b[32m████████████\u001b[0m| 1001/1001 [01:08<00:00, 14.68it/s]\u001b[0m\n",
            "Epochs 21/30 loss: 0.9793: 100%|\u001b[33m██████████████\u001b[0m| 253/253 [00:05<00:00, 46.84it/s]\u001b[0m\n",
            "precision: 0.7688  recall: 0.7179 loss: 0.5728 accuracy: 0.7177\n",
            "Epochs 22/30 loss: 0.2612: 100%|\u001b[32m████████████\u001b[0m| 1001/1001 [01:08<00:00, 14.72it/s]\u001b[0m\n",
            "Epochs 22/30 loss: 0.6360: 100%|\u001b[33m██████████████\u001b[0m| 253/253 [00:05<00:00, 46.55it/s]\u001b[0m\n",
            "precision: 0.7758  recall: 0.7504 loss: 0.4917 accuracy: 0.7504\n",
            "Epochs 23/30 loss: 0.6263: 100%|\u001b[32m████████████\u001b[0m| 1001/1001 [01:08<00:00, 14.62it/s]\u001b[0m\n",
            "Epochs 23/30 loss: 0.8412: 100%|\u001b[33m██████████████\u001b[0m| 253/253 [00:05<00:00, 46.38it/s]\u001b[0m\n",
            "precision: 0.8120  recall: 0.7984 loss: 0.4285 accuracy: 0.7983\n",
            "Epochs 24/30 loss: 0.1076: 100%|\u001b[32m████████████\u001b[0m| 1001/1001 [01:08<00:00, 14.59it/s]\u001b[0m\n",
            "Epochs 24/30 loss: 0.8771: 100%|\u001b[33m██████████████\u001b[0m| 253/253 [00:05<00:00, 46.58it/s]\u001b[0m\n",
            "precision: 0.7895  recall: 0.7445 loss: 0.5408 accuracy: 0.7444\n",
            "Epochs 25/30 loss: 0.6060: 100%|\u001b[32m████████████\u001b[0m| 1001/1001 [01:08<00:00, 14.63it/s]\u001b[0m\n",
            "Epochs 25/30 loss: 0.7717: 100%|\u001b[33m██████████████\u001b[0m| 253/253 [00:05<00:00, 46.74it/s]\u001b[0m\n",
            "precision: 0.7911  recall: 0.7238 loss: 0.5763 accuracy: 0.7237\n",
            "Epochs 26/30 loss: 0.3803: 100%|\u001b[32m████████████\u001b[0m| 1001/1001 [01:08<00:00, 14.69it/s]\u001b[0m\n",
            "Epochs 26/30 loss: 0.5509: 100%|\u001b[33m██████████████\u001b[0m| 253/253 [00:05<00:00, 46.62it/s]\u001b[0m\n",
            "precision: 0.8316  recall: 0.8226 loss: 0.3937 accuracy: 0.8225\n",
            "Epochs 27/30 loss: 0.1963: 100%|\u001b[32m████████████\u001b[0m| 1001/1001 [01:07<00:00, 14.76it/s]\u001b[0m\n",
            "Epochs 27/30 loss: 0.6298: 100%|\u001b[33m██████████████\u001b[0m| 253/253 [00:05<00:00, 47.18it/s]\u001b[0m\n",
            "precision: 0.8091  recall: 0.7608 loss: 0.5687 accuracy: 0.7608\n",
            "Epochs 28/30 loss: 0.4915: 100%|\u001b[32m████████████\u001b[0m| 1001/1001 [01:07<00:00, 14.77it/s]\u001b[0m\n",
            "Epochs 28/30 loss: 0.5016: 100%|\u001b[33m██████████████\u001b[0m| 253/253 [00:05<00:00, 46.94it/s]\u001b[0m\n",
            "precision: 0.8438  recall: 0.8295 loss: 0.4055 accuracy: 0.8295\n",
            "Epochs 29/30 loss: 1.1561: 100%|\u001b[32m████████████\u001b[0m| 1001/1001 [01:07<00:00, 14.81it/s]\u001b[0m\n",
            "Epochs 29/30 loss: 1.0093: 100%|\u001b[33m██████████████\u001b[0m| 253/253 [00:05<00:00, 47.29it/s]\u001b[0m\n",
            "precision: 0.8371  recall: 0.8147 loss: 0.4170 accuracy: 0.8146\n",
            "Epochs 30/30 loss: 0.0800: 100%|\u001b[32m████████████\u001b[0m| 1001/1001 [01:07<00:00, 14.82it/s]\u001b[0m\n",
            "Epochs 30/30 loss: 0.3137: 100%|\u001b[33m██████████████\u001b[0m| 253/253 [00:05<00:00, 47.08it/s]\u001b[0m\n",
            "precision: 0.8606  recall: 0.8596 loss: 0.3427 accuracy: 0.8596\n"
          ]
        }
      ],
      "source": [
        "!python3 train.py -d /home/chaos/Documents/ChaosAIVision/VGG16-from-scratch-Pytorch/data.yaml -b 8 -l 1e-3 -e 30 "
      ]
    },
    {
      "cell_type": "markdown",
      "metadata": {
        "id": "5XO4kFgSHcke"
      },
      "source": []
    }
  ],
  "metadata": {
    "accelerator": "GPU",
    "colab": {
      "gpuType": "T4",
      "provenance": []
    },
    "kernelspec": {
      "display_name": "Python 3",
      "name": "python3"
    },
    "language_info": {
      "codemirror_mode": {
        "name": "ipython",
        "version": 3
      },
      "file_extension": ".py",
      "mimetype": "text/x-python",
      "name": "python",
      "nbconvert_exporter": "python",
      "pygments_lexer": "ipython3",
      "version": "3.10.14"
    }
  },
  "nbformat": 4,
  "nbformat_minor": 0
}
